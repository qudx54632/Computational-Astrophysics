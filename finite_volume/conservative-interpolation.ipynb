{
 "cells": [
  {
   "cell_type": "markdown",
   "id": "0599050d",
   "metadata": {},
   "source": [
    "## Exercise 3.2\n",
    "###### Consider three cell averages: $\\langle f\\rangle_{i-1},\\langle f\\rangle_i,\\langle f\\rangle_{i+1}$. Fit a quadratic polynomial through these points, $$f(x)=A\\left(x-x_i\\right)^2+B\\left(x-x_i\\right)+C$$ where the coefficients, $A, B$, and $C$ are found by applying the constraints: $$ \\begin{aligned} \\langle f\\rangle_{i-1} & =\\frac{1}{\\Delta x} \\int_{x_{i-3 / 2}}^{x_{i-1 / 2}} f(x) d x \\\\ \\langle f\\rangle_i & =\\frac{1}{\\Delta x} \\int_{x_{i-1 / 2}}^{x_{i+1 / 2}} f(x) d x \\\\ \\langle f\\rangle_{i+1} & =\\frac{1}{\\Delta x} \\int_{x_{i+1 / 2}}^{x_{i+3 / 2}} f(x) d x\\end{aligned} $$ Show that the conservative interpolant is: $$ \\begin{aligned} f(x)= & \\frac{\\langle f\\rangle_{i-1}-2\\langle f\\rangle_i+\\langle f\\rangle_{i+1}}{2 \\Delta x^2}\\left(x-x_i\\right)^2+ \\\\ & \\frac{\\langle f\\rangle_{i+1}-\\langle f\\rangle_{i-1}}{2 \\Delta x}\\left(x-x_i\\right)+ \\\\& \\frac{-\\langle f\\rangle_{i-1}+26\\langle f\\rangle_i-\\langle f\\rangle_{i+1}}{24}\\end{aligned}$$"
   ]
  },
  {
   "cell_type": "markdown",
   "id": "450eb24d",
   "metadata": {},
   "source": [
    "## Quadratic\n",
    "##### We want to construct a quadratic polynomal through that points, $x_{i-1}$, $x_i$, $x_{i+1}$, that gives the correct averages, $f_{i-1}$, $f_{i}$ and $f_{i+1}$ when when integrated over the volume, e.g. $$\\frac{1}{\\Delta x}\\int_{x_{1-1/2}}^{x_{i+1/2}}f(x) \\mathrm{d}x=f_i.$$ There are 3 unknowns in the quadratic and three constraints, so this is a linear system we can solve."
   ]
  },
  {
   "cell_type": "markdown",
   "id": "e5205061",
   "metadata": {},
   "source": [
    "#### Define the quadratic polynomial"
   ]
  },
  {
   "cell_type": "code",
   "execution_count": 2,
   "id": "2d729879",
   "metadata": {
    "vscode": {
     "languageId": "wolfram"
    }
   },
   "outputs": [
    {
     "data": {
      "text/html": [
       "<div><img alt=\"Output\" src=\"data:image/png;base64,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\"></div>"
      ],
      "text/plain": [
       "                           2\n",
       "C + B (x - xi) + A (x - xi)"
      ]
     },
     "execution_count": 2,
     "metadata": {
      "text/html": [],
      "text/plain": []
     },
     "output_type": "execute_result"
    }
   ],
   "source": [
    "f[x_] = A (x - xi)^2 + B (x - xi) + C"
   ]
  },
  {
   "cell_type": "markdown",
   "id": "a9b9314a",
   "metadata": {},
   "source": [
    "#### Constraints\n",
    "###### Define the 3 constraint equations---here we set them up construct $A$, $B$, and $C$ as the integrals over the 3 control volumes"
   ]
  },
  {
   "cell_type": "code",
   "execution_count": 5,
   "id": "61fe34bd",
   "metadata": {
    "vscode": {
     "languageId": "wolfram"
    }
   },
   "outputs": [
    {
     "data": {
      "text/html": [
       "<style>\n",
       "\t\t\t\t\t\t\t\t\t\t\t\t\t.grid-container {\n",
       "\t\t\t\t\t\t\t\t\t\t\t\t\t\tdisplay: inline-grid;\n",
       "\t\t\t\t\t\t\t\t\t\t\t\t\t\tgrid-template-columns: auto;\n",
       "\t\t\t\t\t\t\t\t\t\t\t\t\t}\n",
       "\t\t\t\t\t\t\t\t\t\t\t\t</style>\n",
       "\n",
       "\t\t\t\t\t\t\t\t\t\t\t\t<div><div class=\"grid-container\"><div class=\"grid-item\"><img alt=\"Output\" src=\"data:image/png;base64,iVBORw0KGgoAAAANSUhEUgAAALwAAAAsCAIAAABQTUW/AAAA0XpUWHRSYXcgcHJvZmlsZSB0eXBlIGV4aWYAAHjabU/BDQMhDPszRUcICTgwDndHpW7Q8WsO2uqqWiIxjhNI6M/HPdwGNEpI2QsqIESqqWojKTIxc5R6xhPbvmrxqgddhdgo5W8BfenbVXfMrOVnkOgkNl4gt7Qa1iDTqce2frT82kq5DnqvsZDK5+v/7+aKjOiJMam4o5KXQMqErJIdd+wAjRGHStqZO9zZBh8Oa6NxQLtf3T3AKBxjBRsnW2N2RrXKVrFKnk+dDt2olNMz1nkB5ORbMI1evy4AAAAJcEhZcwAACxMAAAsTAQCanBgAAAA8dEVYdFNvZnR3YXJlAENyZWF0ZWQgd2l0aCB0aGUgV29sZnJhbSBMYW5ndWFnZSA6IHd3dy53b2xmcmFtLmNvbVyipoUAAAAhdEVYdENyZWF0aW9uIFRpbWUAMjAyNTowNzoyOSAwOTo1NToyMJ7cO9MAAAlhSURBVHic7ZtZTFNbF8d3KYOhlRnLfAPlAZDRiAwyl1J8IYzWEKSCUTAGYkD0ARlslMEYAirKA/jQgFFEQZIKBlEChhRFQQSlRKRimcpQhFIsQ8/3cJLefm1BWgql3PN7Onvt/9lrEVb3PntCQRAEEBDkQUPVASDsOaanp0+fPk0ikUgk0sjIiLQAhfQ0CBuRn59vbm6ekpIiYddUSTQIe5yhoaHz58/z+fy3b99K1yLDkwqYn59Xege/urr6+/dvafvo6OjS0pLMVzgcDpVKlVlla2t7//59Z2fniooK6VokaXaVoaGhgICA+Ph4JyenwcFBhdspKiqysrJ6+PAhXCwsLCQQCBEREZGRkeKytbU1b2/vsrIymY0sLS11dHRI2ycmJvh8vpOTU3JycldXl4w3IYRdZHFx8devXxAElZeX5+XlKdyOQCDIz8+vqqqCi9PT0/ADHo+fnZ0VyZqbm9PT0728vCRer6urI5PJWVlZoaGhEARVVFR8+vQJgqCSkpLh4eG2tjYvL6+4uDhXV9fW1lZp72rW00xMTKytrW2uodFoJSUluxOPvK6xWKyVlRUAoL+/39nZWWFH2traWlpaoqKJicnTp09jY2NjY2ONjIxE9traWjKZbGxszGQyRcbu7m4qlXrz5k0HBwfYEhgYePbs2bq6OgaDYWdnFxgYyGAw4EwKCQmR9q4eSQP/CIyMjCwtLfX19bOysoRC4Ubivr4+BoOhLNdhYWEaGhpoNNrExOTUqVPz8/ObiLfo+smTJ2w2OyYmRllBAgAcHBxIJFJrayuHw4Etq6ur9fX1jx49mpmZqa2tFSnb2toSEhLweHxwcLDo3aioqKSkJPEvGCMjIzQaLdOXeiRNeXk5lUqtrKxcXl5+9+4dBoNBoVC741ooFF67do3H49Hp9Pb29hs3bmyzwerq6qqqqsePHyvxT2AymS4uLufOnXNwcPj48SNsfP369YkTJ9LS0u7cuVNXVycSGxoa9vf3AwCmpqZgy/z8fGNjY3R0NI1G25I/hYfV3cTExKS4uHgTwdTUVGRkJBaLdXd3DwwMjIuLgyBoYGDAycmpp6cHgqC5uTlPT8+XL1/K65pAIOTm5sLP4eHhFy9e3I7rV69eAQC8vLz8/PzIZLK8wcCw2WwCgYDH4x0dHaOjo4VCIYVCCQ4ODg8PJxKJS0tLsCwpKYlOp8PP3t7e3759g58XFxc9PDw8PT39/f3hb5q4uLj6+vo/f/74+Pi8f//+rwGoQdJMTEwAAL58+bKJhkgkOjs7d3R0NDQ0WFtbw/85CIJSU1NdXV1XVlbOnDkTGhoqFArl9U4gEOLi4mpqai5cuGBjY9Pb27sLrt+8ecNiseSKc2Vlhcvlbl0vl1gCNUia3t5eAMDExMRGAhaLBQBgMBhwMTMzU/Sf4/F4eDw+KipKT0/v58+fCngnEAj29vZEIhGHw7m7u0vMJnbI9d27d7fyi1cVarAiDE83xsfHzczMZAqGh4cBAB4eHtJVGAwmKysrNTU1OzvbxsZGWtDT0yP+bWttbW1vby+hiY+Pv379OgCgoKAgMTFxdHRUQ0Nj+65lAsfDZDLRaDSPx5MZz/j4+BZbUxYWFhbiRTVIGmNjYysrq7q6uiNHjsgUGBoaAgD6+vqOHj0qUbWwsFBYWBgSElJZWZmenn7o0CEJweTkpGi6AQDAYDCbRBIUFJSdnT02NmZtbb191zKB4+FyuZOTk7q6ujLjaWlp2UpTSoRCofxfWdVd3ZZ48ODBgQMHqqurl5eXP3z44Ovry2azRbXLy8s4HI5MJk9NTfX399vZ2YnGiMTExICAgPX1dSKRGB4ertg3TU5OjkAg6OzsDAsLs7GxEW9kh1zv8eFJPZJGKBQWFxfr6emhUCgMBnP16tW1tTVxAZ1ONzQ0RKFQFhYWsbGxJ0+ehCDo+fPnenp6IyMjEARNTk6amZmVlZXJ6zo0NBT+dRkYGJBIpL6+PgnBTrhuaGhgMpnyhrprqNPRCAiC2Gy2ubm5pqaMUXV9fX1qasrc3HzXlnD2gmuVoE5Jg6AUVldXBQIBFotVuAX1WBFGUBiJ/fDc3NywsDB/f/+MjAyF20R6mn3OyspKYWGhtbV1cnIyAGBwcNDBwUEoFNrY2LBYLJkD/V9Bepp9jsR+OLyzPTY2hsPhFMsYIJ40c3NzpaWlISEh0dHRdDp9m7Ei7FkWFxcTEhI2Opm1Ff7NteLi4tbW1oKCAl1dXQMDA2WEh7DnmJubi4mJycjI8PPzU7wV0eTb3t6eRqOpaOaPsCNI7IdDEOTr62tqaurv7+/n59fc3KxYsygIgtLS0trb2/v7+y0tLbFYrIGBQWdnp/KSG2G/gYIg6PPnz1wuNyIiIicnx9PTU1NTc1t9F8J+RxMA4ObmBgDQ0tJyc3MLCgrafqNdXV3Nzc15eXkya2tqathsNgDA0NDQxcWlvb0dtqekpCDfUmqBfJOuoqKie/fuUalUeNK/ERgMxtTUdKPa48eP8/l8AICOjo6BgYG+vr7oLWkxj8dbWFiQK0iEHUJPTw9eR5YvaTIyMgQCwSaCkZGRW7duAQAcHR030uBwuPX1dQCAhoaGlpaWjo4ObJe5bDA8PAwfwkJQOe7u7vCgJF/SSKwUwZSWll66dAl+trS0vHLlCovFKiwsTE9Pl9nI/fv3f/z4AQAwNTX18fFpbGyE7fn5+dL9k5ubGxwowt5hw6Th8/miwz6WlpbSh4xEmt7e3hcvXsAabW1tW1vbTe6XAAAyMzPFiyQSSaHIEVTGv0kzOzsrXqGjo+Pi4gI/b3SeDdZ0dXW5uLhsfubtPwuNRpuZmdnO7uAeZMOeBo1G29nZiVvGxsYoFAqLxdLW1qbT6c+ePYM1jo6OEkoUCvUfOVnyV/r6+kZHR1UdhZJBdrl3lsuXL4+OjopfcNwHILvcyofD4URFRR08eNDDw6O7uxs2fv369fDhw/BMkMvlHjt2rKmpSaVhKg6SNMonISHh+/fvTU1N+fn58DwRAODk5BQQEEChUFZXVzMyMvT19cPDw1Ubp+Iob3cMAYJ2+ObeHgHpaZTMX6/P1dfXp6Wlbf363B4ESRolI7o+J10lfn1O/Iae2oEkjZJxdHTE4XC3b9/mcDgDAwP19fWiqrS0tH/++aelpcXV1ZVCoUDqO29V9fi4D9m5m3t7BGSdZkfY39fnkKRBkJv/AQRLwJw1TsBrAAAAAElFTkSuQmCC\"></div><div class=\"grid-item\"><img alt=\"Output\" src=\"data:image/png;base64,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\"></div><div class=\"grid-item\"><img alt=\"Output\" src=\"data:image/png;base64,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\"></div></div></div>"
      ],
      "text/plain": [
       "                                 3\n",
       "                      2   13 A dx\n",
       "           C dx - B dx  + --------\n",
       "                             12\n",
       "f       == -----------------------\n",
       " -1 + i              dx\n",
       "                 3\n",
       "             A dx\n",
       "      C dx + -----\n",
       "              12\n",
       "f  == ------------\n",
       " i         dx\n",
       "                                3\n",
       "                     2   13 A dx\n",
       "          C dx + B dx  + --------\n",
       "                            12\n",
       "f      == -----------------------\n",
       " 1 + i              dx"
      ]
     },
     "execution_count": 5,
     "metadata": {
      "text/html": [],
      "text/plain": []
     },
     "output_type": "execute_result"
    }
   ],
   "source": [
    "constraints1 = Subscript[f, i - 1] == Integrate[f[x], {x, xi - 3/2 dx, xi - 1/2 dx}]/dx\n",
    "constraints2 = Subscript[f, i] == Integrate[f[x], {x, xi - 1/2 dx, xi + 1/2 dx}]/dx\n",
    "constraints3 = Subscript[f, i + 1] == Integrate[f[x], {x, xi + 1/2 dx, xi + 3/2 dx}]/dx"
   ]
  },
  {
   "cell_type": "code",
   "execution_count": 8,
   "id": "e7ea9153",
   "metadata": {
    "vscode": {
     "languageId": "wolfram"
    }
   },
   "outputs": [
    {
     "data": {
      "text/html": [
       "<div><img alt=\"Output\" src=\"data:image/png;base64,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\"></div>"
      ],
      "text/plain": [
       "                                           2\n",
       "     (x - xi) (f       - f     )   (x - xi)  (-f       + 2 f  - f     )\n",
       "  1             -1 + i    1 + i                 -1 + i      i    1 + i\n",
       "-(-) --------------------------- - ------------------------------------ + \n",
       "  2              dx                                   2\n",
       "                                                  2 dx\n",
       " \n",
       "    -f       + 26 f  - f\n",
       "      -1 + i       i    1 + i\n",
       ">   -------------------------\n",
       "               24"
      ]
     },
     "execution_count": 8,
     "metadata": {
      "text/html": [],
      "text/plain": []
     },
     "output_type": "execute_result"
    }
   ],
   "source": [
    "f[x] /. Solve[{constraints1, constraints2, constraints3}, {A, B, C}][[1]]"
   ]
  },
  {
   "cell_type": "markdown",
   "id": "c8f0a121",
   "metadata": {},
   "source": [
    "## Cubic\n",
    "##### We want to construct a cubic polynomal through that points, $x_{i-2}$, $x_{i-1}$, $x_i$, $x_{i+1}$, that gives the correct averages, $f_{i-2}$, $f_{i-1}$, $f_{i}$ and $f_{i+1}$ when integrated over the volume of each zone"
   ]
  },
  {
   "cell_type": "code",
   "execution_count": 9,
   "id": "3a95cd2c",
   "metadata": {
    "vscode": {
     "languageId": "wolfram"
    }
   },
   "outputs": [
    {
     "data": {
      "text/html": [
       "<div><img alt=\"Output\" src=\"data:image/png;base64,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\"></div>"
      ],
      "text/plain": [
       "                           2             3\n",
       "D + C (x - xi) + B (x - xi)  + A (x - xi)"
      ]
     },
     "execution_count": 9,
     "metadata": {
      "text/html": [],
      "text/plain": []
     },
     "output_type": "execute_result"
    }
   ],
   "source": [
    "f[x_] = A (x - xi)^3 + B (x - xi)^2 + C (x - xi) + D"
   ]
  },
  {
   "cell_type": "code",
   "execution_count": 10,
   "id": "2f1a0445",
   "metadata": {
    "vscode": {
     "languageId": "wolfram"
    }
   },
   "outputs": [
    {
     "data": {
      "text/html": [
       "<style>\n",
       "\t\t\t\t\t\t\t\t\t\t\t\t\t.grid-container {\n",
       "\t\t\t\t\t\t\t\t\t\t\t\t\t\tdisplay: inline-grid;\n",
       "\t\t\t\t\t\t\t\t\t\t\t\t\t\tgrid-template-columns: auto;\n",
       "\t\t\t\t\t\t\t\t\t\t\t\t\t}\n",
       "\t\t\t\t\t\t\t\t\t\t\t\t</style>\n",
       "\n",
       "\t\t\t\t\t\t\t\t\t\t\t\t<div><div class=\"grid-container\"><div class=\"grid-item\"><img alt=\"Output\" src=\"data:image/png;base64,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\"></div><div class=\"grid-item\"><img alt=\"Output\" src=\"data:image/png;base64,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\"></div><div class=\"grid-item\"><img alt=\"Output\" src=\"data:image/png;base64,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\"></div><div class=\"grid-item\"><img alt=\"Output\" src=\"data:image/png;base64,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\"></div></div></div>"
      ],
      "text/plain": [
       "                                   3          4\n",
       "                        2   49 B dx    17 A dx\n",
       "           D dx - 2 C dx  + -------- - --------\n",
       "                               12         2\n",
       "f       == ------------------------------------\n",
       " -2 + i                     dx\n",
       "                                 3         4\n",
       "                      2   13 B dx    5 A dx\n",
       "           D dx - C dx  + -------- - -------\n",
       "                             12         4\n",
       "f       == ---------------------------------\n",
       " -1 + i                   dx\n",
       "                 3\n",
       "             B dx\n",
       "      D dx + -----\n",
       "              12\n",
       "f  == ------------\n",
       " i         dx\n",
       "                                3         4\n",
       "                     2   13 B dx    5 A dx\n",
       "          D dx + C dx  + -------- + -------\n",
       "                            12         4\n",
       "f      == ---------------------------------\n",
       " 1 + i                   dx"
      ]
     },
     "execution_count": 10,
     "metadata": {
      "text/html": [],
      "text/plain": []
     },
     "output_type": "execute_result"
    }
   ],
   "source": [
    "constraints1 = Subscript[f, i - 2] == Integrate[f[x], {x, xi - 5/2 dx, xi - 3/2 dx}]/dx\n",
    "constraints2 = Subscript[f, i - 1] == Integrate[f[x], {x, xi - 3/2 dx, xi - 1/2 dx}]/dx\n",
    "constraints3 = Subscript[f, i] == Integrate[f[x], {x, xi - 1/2 dx, xi + 1/2 dx}]/dx\n",
    "constraints4 = Subscript[f, i + 1] == Integrate[f[x], {x, xi + 1/2 dx, xi + 3/2 dx}]/dx"
   ]
  },
  {
   "cell_type": "code",
   "execution_count": 14,
   "id": "61493952",
   "metadata": {
    "vscode": {
     "languageId": "wolfram"
    }
   },
   "outputs": [
    {
     "data": {
      "text/html": [
       "<div><img alt=\"Output\" src=\"data:image/png;base64,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\"></div>"
      ],
      "text/plain": [
       "      (x - xi) (-5 f       + 27 f       - 15 f  - 7 f     )\n",
       "  1                 -2 + i       -1 + i       i      1 + i\n",
       "-(--) ----------------------------------------------------- - \n",
       "  24                           dx\n",
       " \n",
       "            2\n",
       "    (x - xi)  (-f       + 2 f  - f     )\n",
       "                 -1 + i      i    1 + i\n",
       ">   ------------------------------------ - \n",
       "                       2\n",
       "                   2 dx\n",
       " \n",
       "            3\n",
       "    (x - xi)  (f       - 3 f       + 3 f  - f     )   -f       + 26 f  - f\n",
       "                -2 + i      -1 + i      i    1 + i      -1 + i       i    1 + i\n",
       ">   ----------------------------------------------- + -------------------------\n",
       "                             3                                   24\n",
       "                         6 dx"
      ]
     },
     "execution_count": 14,
     "metadata": {
      "text/html": [],
      "text/plain": []
     },
     "output_type": "execute_result"
    }
   ],
   "source": [
    "f[x] /. Solve[{constraints1, constraints2, constraints3, constraints4}, {A, B, C, D}][[1]]"
   ]
  },
  {
   "cell_type": "markdown",
   "id": "af0105b5",
   "metadata": {},
   "source": []
  }
 ],
 "metadata": {
  "kernelspec": {
   "display_name": "Wolfram Language 14",
   "language": "Wolfram Language",
   "name": "wolframlanguage14"
  },
  "language_info": {
   "codemirror_mode": "mathematica",
   "file_extension": ".m",
   "mimetype": "application/vnd.wolfram.m",
   "name": "Wolfram Language",
   "pygments_lexer": "mathematica",
   "version": "12.0"
  }
 },
 "nbformat": 4,
 "nbformat_minor": 5
}
